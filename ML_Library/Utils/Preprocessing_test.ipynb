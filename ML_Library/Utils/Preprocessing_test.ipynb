{
 "cells": [
  {
   "cell_type": "code",
   "execution_count": 1,
   "id": "4cdaa74f",
   "metadata": {},
   "outputs": [],
   "source": [
    "import numpy as np\n",
    "import pandas as pd\n",
    "import math\n",
    "import matplotlib.pyplot as plt"
   ]
  },
  {
   "cell_type": "markdown",
   "id": "4485c1ea",
   "metadata": {},
   "source": [
    "## Polynomial features"
   ]
  },
  {
   "cell_type": "code",
   "execution_count": 7,
   "id": "a840c097",
   "metadata": {},
   "outputs": [],
   "source": [
    "import preprocessing"
   ]
  },
  {
   "cell_type": "code",
   "execution_count": 9,
   "id": "98197538",
   "metadata": {},
   "outputs": [
    {
     "name": "stdout",
     "output_type": "stream",
     "text": [
      "(10, 1)\n"
     ]
    },
    {
     "data": {
      "text/plain": [
       "array([[0],\n",
       "       [1],\n",
       "       [2],\n",
       "       [3],\n",
       "       [4],\n",
       "       [5],\n",
       "       [6],\n",
       "       [7],\n",
       "       [8],\n",
       "       [9]])"
      ]
     },
     "execution_count": 9,
     "metadata": {},
     "output_type": "execute_result"
    }
   ],
   "source": [
    "X = np.array([[i] for i in range (10)])\n",
    "print(X.shape)\n",
    "X"
   ]
  },
  {
   "cell_type": "code",
   "execution_count": 14,
   "id": "2f9c0dbd",
   "metadata": {},
   "outputs": [
    {
     "data": {
      "text/plain": [
       "array([[ 1.,  0.,  0.],\n",
       "       [ 1.,  1.,  1.],\n",
       "       [ 1.,  2.,  4.],\n",
       "       [ 1.,  3.,  9.],\n",
       "       [ 1.,  4., 16.],\n",
       "       [ 1.,  5., 25.],\n",
       "       [ 1.,  6., 36.],\n",
       "       [ 1.,  7., 49.],\n",
       "       [ 1.,  8., 64.],\n",
       "       [ 1.,  9., 81.]])"
      ]
     },
     "execution_count": 14,
     "metadata": {},
     "output_type": "execute_result"
    }
   ],
   "source": [
    "polynomiale_features(X, 2)"
   ]
  },
  {
   "cell_type": "code",
   "execution_count": 17,
   "id": "99ba9c6a",
   "metadata": {},
   "outputs": [],
   "source": [
    "def polynomiale_features(X, degree = 2):\n",
    "    \"\"\" Si X = [A,B] et degree = 2 ==> new_X = [1, A, B, A2, AB, B2] on a AB(intéraction)  \"\"\"\n",
    "\n",
    "    n_samples, n_features = np.shape(X)\n",
    "\n",
    "    def index_combinations():\n",
    "        combs = [combinations_with_replacement(range(n_features), i) for i in range(0, degree + 1)]\n",
    "        # combinations_with_replacement([A, B, C], 2) = AA AB AC BB BC CC (ordre lexicographique)\n",
    "        flat_combs = [item for sublist in combs for item in sublist]\n",
    "        # on récupère toutes les différentes combinaisons dans une liste\n",
    "        return flat_combs\n",
    "    \n",
    "    combinaisons = index_combinations()\n",
    "    print(\"Combinaisons : \" + str(combinaisons))\n",
    "    n_output_features = len(combinaisons) # Autant de colonnes que de combinaisons\n",
    "    # X = [A, B] et degree = 2 ==> flat_combs = [(), (A,), (B,), (A,A), (A,B), (B,B)]\n",
    "    #                          ==> new_X = [1, A, B, A2, AB, B2] donc même taille\n",
    "    print(\"n_output_features : \" + str(n_output_features))\n",
    "\n",
    "    new_X = np.empty((n_samples, n_output_features))\n",
    "\n",
    "    for i, index_comb in enumerate(combinaisons):\n",
    "        print(f\"i : {i}, index_comb : {index_comb}\")\n",
    "        new_X[:, i] = np.prod(X[:, index_comb], axis = 1) # axis 1 pour ligne\n",
    "        print(new_X[:, i])\n",
    "\n",
    "    return new_X"
   ]
  },
  {
   "cell_type": "code",
   "execution_count": 18,
   "id": "5b9ba56e",
   "metadata": {},
   "outputs": [
    {
     "name": "stdout",
     "output_type": "stream",
     "text": [
      "Combinaisons : [(), (0,), (0, 0)]\n",
      "n_output_features : 3\n",
      "i : 0, index_comb : ()\n",
      "[1. 1. 1. 1. 1. 1. 1. 1. 1. 1.]\n",
      "i : 1, index_comb : (0,)\n",
      "[0. 1. 2. 3. 4. 5. 6. 7. 8. 9.]\n",
      "i : 2, index_comb : (0, 0)\n",
      "[ 0.  1.  4.  9. 16. 25. 36. 49. 64. 81.]\n"
     ]
    },
    {
     "data": {
      "text/plain": [
       "array([[ 1.,  0.,  0.],\n",
       "       [ 1.,  1.,  1.],\n",
       "       [ 1.,  2.,  4.],\n",
       "       [ 1.,  3.,  9.],\n",
       "       [ 1.,  4., 16.],\n",
       "       [ 1.,  5., 25.],\n",
       "       [ 1.,  6., 36.],\n",
       "       [ 1.,  7., 49.],\n",
       "       [ 1.,  8., 64.],\n",
       "       [ 1.,  9., 81.]])"
      ]
     },
     "execution_count": 18,
     "metadata": {},
     "output_type": "execute_result"
    }
   ],
   "source": [
    "polynomiale_features(X, 2)"
   ]
  }
 ],
 "metadata": {
  "kernelspec": {
   "display_name": "Python 3 (ipykernel)",
   "language": "python",
   "name": "python3"
  },
  "language_info": {
   "codemirror_mode": {
    "name": "ipython",
    "version": 3
   },
   "file_extension": ".py",
   "mimetype": "text/x-python",
   "name": "python",
   "nbconvert_exporter": "python",
   "pygments_lexer": "ipython3",
   "version": "3.9.12"
  }
 },
 "nbformat": 4,
 "nbformat_minor": 5
}
